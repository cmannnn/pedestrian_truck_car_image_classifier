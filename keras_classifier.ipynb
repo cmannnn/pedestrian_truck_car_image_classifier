{
  "nbformat": 4,
  "nbformat_minor": 0,
  "metadata": {
    "colab": {
      "name": "keras_classifier.ipynb",
      "provenance": [],
      "authorship_tag": "ABX9TyM5gNGPg6U/ub6QZo14Nl1Y",
      "include_colab_link": true
    },
    "kernelspec": {
      "name": "python3",
      "display_name": "Python 3"
    },
    "language_info": {
      "name": "python"
    }
  },
  "cells": [
    {
      "cell_type": "markdown",
      "metadata": {
        "id": "view-in-github",
        "colab_type": "text"
      },
      "source": [
        "<a href=\"https://colab.research.google.com/github/cmannnn/pedestrian_truck_car_image_classifier/blob/main/keras_classifier.ipynb\" target=\"_parent\"><img src=\"https://colab.research.google.com/assets/colab-badge.svg\" alt=\"Open In Colab\"/></a>"
      ]
    },
    {
      "cell_type": "markdown",
      "metadata": {
        "id": "4oe5lfXPY99w"
      },
      "source": [
        "#installs/imports"
      ]
    },
    {
      "cell_type": "code",
      "metadata": {
        "id": "IwYhhHE3WmN_"
      },
      "source": [
        "import matplotlib.pyplot as plt\n",
        "import numpy as np\n",
        "\n",
        "import keras"
      ],
      "execution_count": 2,
      "outputs": []
    },
    {
      "cell_type": "code",
      "metadata": {
        "id": "pevil2x1ZJIT"
      },
      "source": [
        "# Google Colab mount - don't run this when running locally\n",
        "from google.colab import drive\n",
        "drive.mount('/content/drive')"
      ],
      "execution_count": null,
      "outputs": []
    }
  ]
}