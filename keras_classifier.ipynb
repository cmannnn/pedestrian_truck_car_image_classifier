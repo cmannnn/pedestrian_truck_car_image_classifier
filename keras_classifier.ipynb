{
  "nbformat": 4,
  "nbformat_minor": 0,
  "metadata": {
    "colab": {
      "name": "keras_classifier.ipynb",
      "provenance": [],
      "authorship_tag": "ABX9TyPl6kkvhXgR1dnsSJMU0KjW",
      "include_colab_link": true
    },
    "kernelspec": {
      "name": "python3",
      "display_name": "Python 3"
    },
    "language_info": {
      "name": "python"
    }
  },
  "cells": [
    {
      "cell_type": "markdown",
      "metadata": {
        "id": "view-in-github",
        "colab_type": "text"
      },
      "source": [
        "<a href=\"https://colab.research.google.com/github/cmannnn/pedestrian_truck_car_image_classifier/blob/main/keras_classifier.ipynb\" target=\"_parent\"><img src=\"https://colab.research.google.com/assets/colab-badge.svg\" alt=\"Open In Colab\"/></a>"
      ]
    },
    {
      "cell_type": "markdown",
      "metadata": {
        "id": "4oe5lfXPY99w"
      },
      "source": [
        "#installs/imports"
      ]
    },
    {
      "cell_type": "code",
      "metadata": {
        "id": "IwYhhHE3WmN_"
      },
      "source": [
        "import matplotlib.pyplot as plt\n",
        "import numpy as np\n",
        "\n",
        "import keras\n",
        "\n",
        "# Imports components from Keras\n",
        "from keras.models import Sequential\n",
        "from keras.layers import Dense"
      ],
      "execution_count": 1,
      "outputs": []
    },
    {
      "cell_type": "code",
      "metadata": {
        "id": "pevil2x1ZJIT",
        "colab": {
          "base_uri": "https://localhost:8080/"
        },
        "outputId": "2e603e09-7fab-41e8-d7b1-b2673da8dbeb"
      },
      "source": [
        "# Google Colab mount\n",
        "from google.colab import drive\n",
        "drive.mount('/content/drive')"
      ],
      "execution_count": 2,
      "outputs": [
        {
          "output_type": "stream",
          "text": [
            "Mounted at /content/drive\n"
          ],
          "name": "stdout"
        }
      ]
    },
    {
      "cell_type": "code",
      "metadata": {
        "id": "wF3mJr_AhiLE"
      },
      "source": [
        "car = plt.imread('/content/drive/MyDrive/Camp Jupyter/person_truck_image_classifier/dataset/pedestrians/Image_1.png')\n",
        "\n",
        "plt.imshow(car)\n",
        "plt.show()"
      ],
      "execution_count": null,
      "outputs": []
    },
    {
      "cell_type": "markdown",
      "metadata": {
        "id": "6K-KnvJ-j-jL"
      },
      "source": [
        "##datacamp sample code"
      ]
    },
    {
      "cell_type": "code",
      "metadata": {
        "id": "LFFI2IeFdPbM"
      },
      "source": [
        "# Import matplotlib\n",
        "#import matplotlib.pyplot as plt\n",
        "\n",
        "# Load the image\n",
        "#data = plt.imread('bricks.png')\n",
        "\n",
        "# Display the image\n",
        "#plt.imshow(data)\n",
        "#plt.show()"
      ],
      "execution_count": null,
      "outputs": []
    },
    {
      "cell_type": "code",
      "metadata": {
        "id": "UqClQHeWjxoW"
      },
      "source": [
        "# Initializes a sequential model\n",
        "#model = Sequential()\n",
        "\n",
        "# First layer\n",
        "#model.add(Dense(10, activation='relu', input_shape=(784,)))\n",
        "\n",
        "# Second layer\n",
        "#model.add(Dense(10, activation='relu'))\n",
        "\n",
        "# Output layer\n",
        "#model.add(Dense(3, activation='softmax'))"
      ],
      "execution_count": null,
      "outputs": []
    },
    {
      "cell_type": "code",
      "metadata": {
        "id": "7uawxv11kdgN"
      },
      "source": [
        "# Compile the model\n",
        "#model.compile(optimizer='adam', \n",
        " #          loss='categorical_crossentropy', \n",
        "  #         metrics=['accuracy'])"
      ],
      "execution_count": null,
      "outputs": []
    },
    {
      "cell_type": "code",
      "metadata": {
        "id": "6vAeA7vjlTGI"
      },
      "source": [
        "# Reshape the data to two-dimensional array\n",
        "#train_data = train_data.reshape(50, 784)\n",
        "\n",
        "# Fit the model\n",
        "#model.fit(train_data, train_labels, validation_split=0.2, epochs=3)"
      ],
      "execution_count": null,
      "outputs": []
    }
  ]
}