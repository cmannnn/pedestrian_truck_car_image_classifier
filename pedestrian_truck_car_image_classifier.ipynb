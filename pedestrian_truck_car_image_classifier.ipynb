{
  "nbformat": 4,
  "nbformat_minor": 0,
  "metadata": {
    "colab": {
      "name": "pedestrian_truck_car_image_classifier.ipynb",
      "provenance": [],
      "authorship_tag": "ABX9TyNFC6tHsNzQkTU+wVx22MZl",
      "include_colab_link": true
    },
    "kernelspec": {
      "name": "python3",
      "display_name": "Python 3"
    },
    "language_info": {
      "name": "python"
    }
  },
  "cells": [
    {
      "cell_type": "markdown",
      "metadata": {
        "id": "view-in-github",
        "colab_type": "text"
      },
      "source": [
        "<a href=\"https://colab.research.google.com/github/cmannnn/pedestrian_truck_car_image_classifier/blob/main/pedestrian_truck_car_image_classifier.ipynb\" target=\"_parent\"><img src=\"https://colab.research.google.com/assets/colab-badge.svg\" alt=\"Open In Colab\"/></a>"
      ]
    },
    {
      "cell_type": "code",
      "metadata": {
        "colab": {
          "base_uri": "https://localhost:8080/"
        },
        "id": "40nyVYGY693x",
        "outputId": "7b2f5e23-c4a8-481f-9f1d-6da0b584587d"
      },
      "source": [
        "# !pip install bing-image-downloader==1.1.1"
      ],
      "execution_count": null,
      "outputs": [
        {
          "output_type": "stream",
          "text": [
            "Collecting bing-image-downloader==1.1.1\n",
            "  Downloading https://files.pythonhosted.org/packages/c2/04/1872a689a30036aa0b81ac9fca124a7413cad71fdab714f727cf1a34b671/bing_image_downloader-1.1.1-py3-none-any.whl\n",
            "Installing collected packages: bing-image-downloader\n",
            "Successfully installed bing-image-downloader-1.1.1\n"
          ],
          "name": "stdout"
        }
      ]
    },
    {
      "cell_type": "markdown",
      "metadata": {
        "id": "QnfMfCXJ6wLg"
      },
      "source": [
        ""
      ]
    },
    {
      "cell_type": "code",
      "metadata": {
        "colab": {
          "base_uri": "https://localhost:8080/"
        },
        "id": "eqhk1HRW7ESy",
        "outputId": "fccb03a7-dde5-4f8c-b698-9c65871472d7"
      },
      "source": [
        "from bing_image_downloader import downloader\n",
        "downloader.download(\"large truck\", limit=40,  output_dir='dataset', adult_filter_off=True, force_replace=False, timeout=60, verbose=True)"
      ],
      "execution_count": null,
      "outputs": [
        {
          "output_type": "stream",
          "text": [
            "[%] Downloading Images to /content/dataset/large truck\n",
            "\n",
            "\n",
            "[!!]Indexing page: 1\n",
            "\n",
            "[%] Indexed 40 Images on Page 1.\n",
            "\n",
            "===============================================\n",
            "\n",
            "[%] Downloading Image #1 from https://i.pinimg.com/originals/15/e3/81/15e3814d93a6b34f2bb1f9ad1103d254.jpg\n",
            "[%] File Downloaded !\n",
            "\n",
            "[%] Downloading Image #2 from https://i.pinimg.com/originals/af/8c/de/af8cdea6b3a6f9a2f59094fdd5385c5a.jpg\n",
            "[%] File Downloaded !\n",
            "\n",
            "[%] Downloading Image #3 from https://i.pinimg.com/originals/6f/00/30/6f003006ba463fac83decb36c90d95ed.jpg\n",
            "[%] File Downloaded !\n",
            "\n",
            "[%] Downloading Image #4 from https://i.pinimg.com/originals/ac/8e/70/ac8e706a4eeb23cc81158c2425f66a1d.jpg\n",
            "[%] File Downloaded !\n",
            "\n",
            "[%] Downloading Image #5 from https://i.pinimg.com/originals/a4/70/df/a470df3cd401cac499ee14a27524f3fa.jpg\n",
            "[%] File Downloaded !\n",
            "\n",
            "[%] Downloading Image #6 from https://i.pinimg.com/originals/a9/73/28/a973280d185b13fc8970296826343d5d.jpg\n",
            "[%] File Downloaded !\n",
            "\n",
            "[%] Downloading Image #7 from https://i.pinimg.com/originals/1a/cb/ad/1acbadb8f0e7ed80c52a470578957932.jpg\n",
            "[%] File Downloaded !\n",
            "\n",
            "[%] Downloading Image #8 from https://i.pinimg.com/originals/ab/28/63/ab2863f6bf21777383bff1ea83c22411.jpg\n",
            "[%] File Downloaded !\n",
            "\n",
            "[%] Downloading Image #9 from https://c1.staticflickr.com/3/2713/4384236048_36ab16ecfa_b.jpg\n",
            "[%] File Downloaded !\n",
            "\n",
            "[%] Downloading Image #10 from https://i.pinimg.com/originals/fa/e0/70/fae070f29b42d1ec80fc7f253ff975aa.jpg\n",
            "[%] File Downloaded !\n",
            "\n",
            "[%] Downloading Image #11 from https://s-media-cache-ak0.pinimg.com/736x/f5/96/a6/f596a6b21e48c18ff083f10111eb0d32.jpg\n",
            "[%] File Downloaded !\n",
            "\n",
            "[%] Downloading Image #12 from https://i.pinimg.com/736x/f5/78/9f/f5789f8f7fee197066c1ae6ded514a4f.jpg\n",
            "[%] File Downloaded !\n",
            "\n",
            "[%] Downloading Image #13 from https://i.pinimg.com/originals/63/73/8c/63738ccfc0c2ae0df5d463772da6ac88.jpg\n",
            "[%] File Downloaded !\n",
            "\n",
            "[%] Downloading Image #14 from https://i.pinimg.com/originals/91/77/83/9177836e1fd650700c5b4d764b6e1107.jpg\n",
            "[%] File Downloaded !\n",
            "\n",
            "[%] Downloading Image #15 from https://i.pinimg.com/originals/05/18/22/051822ced879b53843e870273a6967bc.jpg\n",
            "[%] File Downloaded !\n",
            "\n",
            "[%] Downloading Image #16 from https://i.pinimg.com/originals/ef/00/1f/ef001ff0d38506f2aa33a3b83884f44f.jpg\n",
            "[%] File Downloaded !\n",
            "\n",
            "[%] Downloading Image #17 from https://i.pinimg.com/736x/fb/88/e7/fb88e7bb32c0111ef9d32112f6342a87--kenworth-trucks-tractors.jpg\n",
            "[%] File Downloaded !\n",
            "\n",
            "[%] Downloading Image #18 from https://i.pinimg.com/originals/4e/58/ca/4e58cad7b068b6f4be2017fdfffe2895.jpg\n",
            "[%] File Downloaded !\n",
            "\n",
            "[%] Downloading Image #19 from https://i.pinimg.com/originals/b2/1d/5d/b21d5d65f66b078e7017cf84448f8c61.jpg\n",
            "[%] File Downloaded !\n",
            "\n",
            "[%] Downloading Image #20 from http://thecarsoftulelake.com/wp-content/uploads/2018/06/2017-06-29-21.07.42-1200x750.jpg\n",
            "[%] File Downloaded !\n",
            "\n",
            "[%] Downloading Image #21 from https://i.pinimg.com/736x/c3/fc/ce/c3fcce4563167f906df0e37dcf9bac55--kenworth-trucks-dump-trucks.jpg\n",
            "[%] File Downloaded !\n",
            "\n",
            "[%] Downloading Image #22 from https://i.pinimg.com/originals/c9/a3/e3/c9a3e319413da676557986e845cbdb33.jpg\n",
            "[%] File Downloaded !\n",
            "\n",
            "[%] Downloading Image #23 from https://i.pinimg.com/originals/44/1e/c1/441ec1d3110158e1f169506655ca1104.jpg\n",
            "[%] File Downloaded !\n",
            "\n",
            "[%] Downloading Image #24 from https://i.pinimg.com/736x/a8/f6/12/a8f6126b32f3987e3728a10b0e1a5683--semi-trucks-big-trucks.jpg\n",
            "[%] File Downloaded !\n",
            "\n",
            "[%] Downloading Image #25 from https://c1.staticflickr.com/7/6106/6286493077_79f83e99a4_b.jpg\n",
            "[Error]Invalid image, not saving https://c1.staticflickr.com/7/6106/6286493077_79f83e99a4_b.jpg\n",
            "\n",
            "[!] Issue getting: https://c1.staticflickr.com/7/6106/6286493077_79f83e99a4_b.jpg\n",
            "[!] Error:: Invalid image, not saving https://c1.staticflickr.com/7/6106/6286493077_79f83e99a4_b.jpg\n",
            "\n",
            "[%] Downloading Image #25 from https://i.pinimg.com/originals/b0/3d/96/b03d96abc996105f5b3a2a96a7bd652a.jpg\n",
            "[%] File Downloaded !\n",
            "\n",
            "[%] Downloading Image #26 from https://i.pinimg.com/originals/1d/0b/bc/1d0bbc74d4b473ae36477f23ff7ac30c.jpg\n",
            "[%] File Downloaded !\n",
            "\n",
            "[%] Downloading Image #27 from https://i.pinimg.com/originals/16/7d/bd/167dbdf3818b6cd3a1a0902aa903580e.jpg\n",
            "[%] File Downloaded !\n",
            "\n",
            "[%] Downloading Image #28 from https://i.pinimg.com/originals/a1/70/d9/a170d92daf207172e5f7732ad45507a8.jpg\n",
            "[%] File Downloaded !\n",
            "\n",
            "[%] Downloading Image #29 from https://i.pinimg.com/originals/89/85/df/8985df46c28293b290b3d820ca101a7d.jpg\n",
            "[%] File Downloaded !\n",
            "\n",
            "[%] Downloading Image #30 from http://i.ytimg.com/vi/tXrowYpe_qc/maxresdefault.jpg\n",
            "[%] File Downloaded !\n",
            "\n",
            "[%] Downloading Image #31 from https://i.pinimg.com/originals/b8/3f/77/b83f77280c337c2ca7b12baaf3f3dffb.jpg\n",
            "[%] File Downloaded !\n",
            "\n",
            "[%] Downloading Image #32 from https://i.pinimg.com/originals/df/ad/a4/dfada4dfa645d965e6f728fd3bda2626.jpg\n",
            "[%] File Downloaded !\n",
            "\n",
            "[%] Downloading Image #33 from https://i.pinimg.com/originals/c1/ab/c4/c1abc4b486a9a12e03510be0c5f090d4.jpg\n",
            "[%] File Downloaded !\n",
            "\n",
            "[%] Downloading Image #34 from https://i.pinimg.com/originals/7a/28/96/7a2896c1c0b840563417713a7c1eb786.jpg\n",
            "[%] File Downloaded !\n",
            "\n",
            "[%] Downloading Image #35 from http://www.trucks.com/wp-content/uploads/2017/04/Project-Portal-Toyota-fuel-cell-truck-side.jpg\n",
            "[%] File Downloaded !\n",
            "\n",
            "[%] Downloading Image #36 from http://classicvehicleslist.com/pics/bigpics/classic-1956-chevy-big-window-pickup-truck-a-true-black-beauty-11.jpg\n",
            "[%] File Downloaded !\n",
            "\n",
            "[%] Downloading Image #37 from http://smclassiccars.com/uploads/postfotos/classic-1956-chevy-big-window-pickup-truck-a-true-black-beauty-1.jpg\n",
            "[%] File Downloaded !\n",
            "\n",
            "[%] Downloading Image #38 from https://i.pinimg.com/474x/9f/e1/e0/9fe1e0515d6b826f6e6b80dcd736b661--sexy-trucks-big-trucks.jpg\n",
            "[%] File Downloaded !\n",
            "\n",
            "[%] Downloading Image #39 from http://classicvehicleslist.com/pics/bigpics/classic-1956-chevy-big-window-pickup-truck-a-true-black-beauty-12.jpg\n",
            "[%] File Downloaded !\n",
            "\n",
            "\n",
            "\n",
            "[!!]Indexing page: 2\n",
            "\n",
            "[%] Indexed 35 Images on Page 2.\n",
            "\n",
            "===============================================\n",
            "\n",
            "[%] Downloading Image #40 from https://i.pinimg.com/originals/15/e3/81/15e3814d93a6b34f2bb1f9ad1103d254.jpg\n",
            "[%] File Downloaded !\n",
            "\n",
            "\n",
            "\n",
            "[%] Done. Downloaded 40 images.\n",
            "===============================================\n",
            "\n",
            "Please show your support here\n",
            "https://www.buymeacoffee.com/gurugaurav\n",
            "\n",
            "===============================================\n",
            "\n"
          ],
          "name": "stdout"
        }
      ]
    }
  ]
}