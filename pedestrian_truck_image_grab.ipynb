{
  "nbformat": 4,
  "nbformat_minor": 0,
  "metadata": {
    "colab": {
      "name": "pedestrian_truck_image_grab.ipynb",
      "provenance": [],
      "authorship_tag": "ABX9TyPDVFnz+599n35szrpZQCYG",
      "include_colab_link": true
    },
    "kernelspec": {
      "name": "python3",
      "display_name": "Python 3"
    },
    "language_info": {
      "name": "python"
    }
  },
  "cells": [
    {
      "cell_type": "markdown",
      "metadata": {
        "id": "view-in-github",
        "colab_type": "text"
      },
      "source": [
        "<a href=\"https://colab.research.google.com/github/cmannnn/pedestrian_truck_car_image_classifier/blob/main/pedestrian_truck_image_grab.ipynb\" target=\"_parent\"><img src=\"https://colab.research.google.com/assets/colab-badge.svg\" alt=\"Open In Colab\"/></a>"
      ]
    },
    {
      "cell_type": "markdown",
      "metadata": {
        "id": "WI2871xmSPyK"
      },
      "source": [
        "#installs/imports"
      ]
    },
    {
      "cell_type": "code",
      "metadata": {
        "colab": {
          "base_uri": "https://localhost:8080/"
        },
        "id": "40nyVYGY693x",
        "outputId": "d2f33d8d-73f6-48aa-f076-90b6517db636"
      },
      "source": [
        "!pip install bing-image-downloader==1.1.1"
      ],
      "execution_count": 6,
      "outputs": [
        {
          "output_type": "stream",
          "text": [
            "Collecting bing-image-downloader==1.1.1\n",
            "  Downloading https://files.pythonhosted.org/packages/c2/04/1872a689a30036aa0b81ac9fca124a7413cad71fdab714f727cf1a34b671/bing_image_downloader-1.1.1-py3-none-any.whl\n",
            "Installing collected packages: bing-image-downloader\n",
            "Successfully installed bing-image-downloader-1.1.1\n"
          ],
          "name": "stdout"
        }
      ]
    },
    {
      "cell_type": "code",
      "metadata": {
        "id": "n_HKugy5SaqZ"
      },
      "source": [
        "import os\n",
        "\n",
        "from bing_image_downloader import downloader"
      ],
      "execution_count": 7,
      "outputs": []
    },
    {
      "cell_type": "code",
      "metadata": {
        "colab": {
          "base_uri": "https://localhost:8080/"
        },
        "id": "cKO8lAkzSZhm",
        "outputId": "59870d57-a6d1-4f09-d9c9-17970af855fa"
      },
      "source": [
        "from google.colab import drive\n",
        "drive.mount('/content/drive')"
      ],
      "execution_count": 2,
      "outputs": [
        {
          "output_type": "stream",
          "text": [
            "Mounted at /content/drive\n"
          ],
          "name": "stdout"
        }
      ]
    },
    {
      "cell_type": "code",
      "metadata": {
        "id": "1Hgg0WR7TGBz"
      },
      "source": [
        "output_dir = '/content/drive/MyDrive/Camp Jupyter/person_truck_image_classifier/dataset/truck'"
      ],
      "execution_count": 8,
      "outputs": []
    },
    {
      "cell_type": "code",
      "metadata": {
        "colab": {
          "base_uri": "https://localhost:8080/"
        },
        "id": "eqhk1HRW7ESy",
        "outputId": "ed4bd107-72d2-44c6-f9d0-7d9ffda6b2dd"
      },
      "source": [
        "downloader.download(\"large truck\", limit = 40,  output_dir = output_dir, adult_filter_off = True, force_replace = False, timeout = 60, verbose = True)"
      ],
      "execution_count": 9,
      "outputs": [
        {
          "output_type": "stream",
          "text": [
            "[%] Downloading Images to /content/drive/MyDrive/Camp Jupyter/person_truck_image_classifier/dataset/truck/large truck\n",
            "\n",
            "\n",
            "[!!]Indexing page: 1\n",
            "\n",
            "[%] Indexed 40 Images on Page 1.\n",
            "\n",
            "===============================================\n",
            "\n",
            "[%] Downloading Image #1 from https://live.staticflickr.com/6106/6286493077_79f83e99a4_b.jpg\n",
            "[Error]Invalid image, not saving https://live.staticflickr.com/6106/6286493077_79f83e99a4_b.jpg\n",
            "\n",
            "[!] Issue getting: https://live.staticflickr.com/6106/6286493077_79f83e99a4_b.jpg\n",
            "[!] Error:: Invalid image, not saving https://live.staticflickr.com/6106/6286493077_79f83e99a4_b.jpg\n",
            "\n",
            "[%] Downloading Image #1 from https://i.pinimg.com/736x/44/1e/c1/441ec1d3110158e1f169506655ca1104.jpg\n",
            "[%] File Downloaded !\n",
            "\n",
            "[%] Downloading Image #2 from https://www.trucksnl.com/pictures/ad-6363422-00d5f06b018b1bc1/tow_recovery_truck_scania_r560_la6x2hna_rescue_truck_triple_k_true_tilt_2011_6363422.jpg?format=jpg&amp;quality=70&amp;w=1110&amp;h=832\n",
            "[Error]Invalid image, not saving https://www.trucksnl.com/pictures/ad-6363422-00d5f06b018b1bc1/tow_recovery_truck_scania_r560_la6x2hna_rescue_truck_triple_k_true_tilt_2011_6363422.jpg?format=jpg&amp;quality=70&amp;w=1110&amp;h=832\n",
            "\n",
            "[!] Issue getting: https://www.trucksnl.com/pictures/ad-6363422-00d5f06b018b1bc1/tow_recovery_truck_scania_r560_la6x2hna_rescue_truck_triple_k_true_tilt_2011_6363422.jpg?format=jpg&amp;quality=70&amp;w=1110&amp;h=832\n",
            "[!] Error:: Invalid image, not saving https://www.trucksnl.com/pictures/ad-6363422-00d5f06b018b1bc1/tow_recovery_truck_scania_r560_la6x2hna_rescue_truck_triple_k_true_tilt_2011_6363422.jpg?format=jpg&amp;quality=70&amp;w=1110&amp;h=832\n",
            "\n",
            "[%] Downloading Image #2 from http://www.avalankids.com.au/assets/alt_1/20105201.jpg?20191114235521\n",
            "[%] File Downloaded !\n",
            "\n",
            "[%] Downloading Image #3 from https://i.pinimg.com/736x/4e/58/ca/4e58cad7b068b6f4be2017fdfffe2895--classic-trucks-big-trucks.jpg\n",
            "[%] File Downloaded !\n",
            "\n",
            "[%] Downloading Image #4 from http://www.avalankids.com.au/assets/alt_1/20108311.jpg?20191115001314\n",
            "[%] File Downloaded !\n",
            "\n",
            "[%] Downloading Image #5 from https://www.trucksnl.com/pictures/ad-6363422-5f05f06b019a511f/tow_recovery_truck_scania_r560_la6x2hna_rescue_truck_triple_k_true_tilt_2011_6363422-3.jpg?format=jpg&amp;quality=70&amp;w=1110&amp;h=832\n",
            "[Error]Invalid image, not saving https://www.trucksnl.com/pictures/ad-6363422-5f05f06b019a511f/tow_recovery_truck_scania_r560_la6x2hna_rescue_truck_triple_k_true_tilt_2011_6363422-3.jpg?format=jpg&amp;quality=70&amp;w=1110&amp;h=832\n",
            "\n",
            "[!] Issue getting: https://www.trucksnl.com/pictures/ad-6363422-5f05f06b019a511f/tow_recovery_truck_scania_r560_la6x2hna_rescue_truck_triple_k_true_tilt_2011_6363422-3.jpg?format=jpg&amp;quality=70&amp;w=1110&amp;h=832\n",
            "[!] Error:: Invalid image, not saving https://www.trucksnl.com/pictures/ad-6363422-5f05f06b019a511f/tow_recovery_truck_scania_r560_la6x2hna_rescue_truck_triple_k_true_tilt_2011_6363422-3.jpg?format=jpg&amp;quality=70&amp;w=1110&amp;h=832\n",
            "\n",
            "[%] Downloading Image #5 from http://americanclassicscars.com/uploads/pictures/classic-1956-chevy-big-window-pickup-truck-a-true-black-beauty-1.JPG\n",
            "[%] File Downloaded !\n",
            "\n",
            "[%] Downloading Image #6 from http://www.avalankids.com.au/assets/alt_1/20124281.jpg?20201112001632\n",
            "[%] File Downloaded !\n",
            "\n",
            "[%] Downloading Image #7 from https://i.pinimg.com/736x/a2/12/21/a21221b1776662253cc896811320b742.jpg\n",
            "[%] File Downloaded !\n",
            "\n",
            "[%] Downloading Image #8 from http://www.avalankids.com.au/assets/alt_1/20108314.jpg?20200108231302\n",
            "[%] File Downloaded !\n",
            "\n",
            "[%] Downloading Image #9 from https://blog.iseekplant.com.au/hs-fs/hubfs/dump-truck.jpg?width=848&amp;height=564&amp;name=dump-truck.jpg\n",
            "[%] File Downloaded !\n",
            "\n",
            "[%] Downloading Image #10 from http://www.avalankids.com.au/assets/alt_1/20106672.jpg?20200113174355\n",
            "[%] File Downloaded !\n",
            "\n",
            "[%] Downloading Image #11 from http://www.avalankids.com.au/assets/alt_1/20105202.jpg?20200707031736\n",
            "[%] File Downloaded !\n",
            "\n",
            "[%] Downloading Image #12 from https://i.pinimg.com/originals/7c/26/2c/7c262c5a5a7fc847eed8319046f60c87.jpg\n",
            "[%] File Downloaded !\n",
            "\n",
            "[%] Downloading Image #13 from http://www.avalankids.com.au/assets/full/20108311.jpg?20200707031736\n",
            "[%] File Downloaded !\n",
            "\n",
            "[%] Downloading Image #14 from http://www.avalankids.com.au/assets/alt_1/20124280.jpg?20201112002219\n",
            "[%] File Downloaded !\n",
            "\n",
            "[%] Downloading Image #15 from https://bighornlifttruck.com/wp-content/uploads/2019/05/21.jpg\n",
            "[%] File Downloaded !\n",
            "\n",
            "[%] Downloading Image #16 from https://www.vmcdn.ca/f/files/rmotoday/import/18/2018/09/GT-20141106-RMO0801-311069982-AR.jpeg;w=725;h=473;mode=crop\n",
            "[%] File Downloaded !\n",
            "\n",
            "[%] Downloading Image #17 from https://truetowing.com/wp-content/uploads/true-towing-red-truck-1024x682.jpeg\n",
            "[%] File Downloaded !\n",
            "\n",
            "[%] Downloading Image #18 from https://www.trucksnl.com/pictures/ad-6363422-b675ff5733941280/tow_recovery_truck_scania_r560_la6x2hna_rescue_truck_triple_k_true_tilt_2011_6363422-2.jpg?format=jpg&amp;quality=70&amp;w=1110&amp;h=832\n",
            "[Error]Invalid image, not saving https://www.trucksnl.com/pictures/ad-6363422-b675ff5733941280/tow_recovery_truck_scania_r560_la6x2hna_rescue_truck_triple_k_true_tilt_2011_6363422-2.jpg?format=jpg&amp;quality=70&amp;w=1110&amp;h=832\n",
            "\n",
            "[!] Issue getting: https://www.trucksnl.com/pictures/ad-6363422-b675ff5733941280/tow_recovery_truck_scania_r560_la6x2hna_rescue_truck_triple_k_true_tilt_2011_6363422-2.jpg?format=jpg&amp;quality=70&amp;w=1110&amp;h=832\n",
            "[!] Error:: Invalid image, not saving https://www.trucksnl.com/pictures/ad-6363422-b675ff5733941280/tow_recovery_truck_scania_r560_la6x2hna_rescue_truck_triple_k_true_tilt_2011_6363422-2.jpg?format=jpg&amp;quality=70&amp;w=1110&amp;h=832\n",
            "\n",
            "[%] Downloading Image #18 from http://www.avalankids.com.au/assets/alt_2/20108311.jpg?20191115001315\n",
            "[%] File Downloaded !\n",
            "\n",
            "[%] Downloading Image #19 from http://www.avalankids.com.au/assets/alt_2/20106672.jpg?20200113174355\n",
            "[%] File Downloaded !\n",
            "\n",
            "[%] Downloading Image #20 from http://www.avalankids.com.au/assets/alt_2/20124279.jpg?20201112002516\n",
            "[%] File Downloaded !\n",
            "\n",
            "[%] Downloading Image #21 from http://www.avalankids.com.au/assets/alt_3/20106672.jpg?20200113174355\n",
            "[%] File Downloaded !\n",
            "\n",
            "[%] Downloading Image #22 from https://s-media-cache-ak0.pinimg.com/736x/cd/82/9e/cd829e53cd01affeab7c26f1e6f63be0.jpg\n",
            "[%] File Downloaded !\n",
            "\n",
            "[%] Downloading Image #23 from https://i.pinimg.com/736x/08/54/d8/0854d84400f3799be701a4bc642f1ae2.jpg\n",
            "[%] File Downloaded !\n",
            "\n",
            "[%] Downloading Image #24 from http://www.avalankids.com.au/assets/alt_1/20120671.jpg?20200707032103\n",
            "[%] File Downloaded !\n",
            "\n",
            "[%] Downloading Image #25 from http://blogunity.net/wp-content/uploads/2015/07/Peterbilt-379-True-Blue-6.jpg\n",
            "[%] File Downloaded !\n",
            "\n",
            "[%] Downloading Image #26 from http://www.avalankids.com.au/assets/alt_1/20124278.jpg?20201112002928\n",
            "[%] File Downloaded !\n",
            "\n",
            "[%] Downloading Image #27 from http://www.avalankids.com.au/assets/alt_1/20108310.jpg?20191123232133\n",
            "[%] File Downloaded !\n",
            "\n",
            "[%] Downloading Image #28 from http://www.avalankids.com.au/assets/alt_2/20105202.jpg?20200707031736\n",
            "[%] File Downloaded !\n",
            "\n",
            "[%] Downloading Image #29 from https://s-media-cache-ak0.pinimg.com/736x/8d/68/37/8d6837eba17004cb969a11c053ef7f67.jpg\n",
            "[%] File Downloaded !\n",
            "\n",
            "[%] Downloading Image #30 from https://s-media-cache-ak0.pinimg.com/736x/bc/d4/22/bcd42284292f04f2675502e1f64bb7fa.jpg\n",
            "[%] File Downloaded !\n",
            "\n",
            "[%] Downloading Image #31 from https://www.trucksnl.com/pictures/ad-6351146-f075ef9d85bbd69c/tow_recovery_truck_diversen_lift_true_tilt_11_dot_000_kg_lift_20_dot_000_kg_pull_remote_control_2019_6351146-9.jpg?format=jpg&amp;quality=70&amp;w=1110&amp;h=832\n",
            "[Error]Invalid image, not saving https://www.trucksnl.com/pictures/ad-6351146-f075ef9d85bbd69c/tow_recovery_truck_diversen_lift_true_tilt_11_dot_000_kg_lift_20_dot_000_kg_pull_remote_control_2019_6351146-9.jpg?format=jpg&amp;quality=70&amp;w=1110&amp;h=832\n",
            "\n",
            "[!] Issue getting: https://www.trucksnl.com/pictures/ad-6351146-f075ef9d85bbd69c/tow_recovery_truck_diversen_lift_true_tilt_11_dot_000_kg_lift_20_dot_000_kg_pull_remote_control_2019_6351146-9.jpg?format=jpg&amp;quality=70&amp;w=1110&amp;h=832\n",
            "[!] Error:: Invalid image, not saving https://www.trucksnl.com/pictures/ad-6351146-f075ef9d85bbd69c/tow_recovery_truck_diversen_lift_true_tilt_11_dot_000_kg_lift_20_dot_000_kg_pull_remote_control_2019_6351146-9.jpg?format=jpg&amp;quality=70&amp;w=1110&amp;h=832\n",
            "\n",
            "[%] Downloading Image #31 from https://s-media-cache-ak0.pinimg.com/736x/ae/d9/23/aed923169a0ee1d66f5b89b4979413c3.jpg\n",
            "[%] File Downloaded !\n",
            "\n",
            "[%] Downloading Image #32 from http://www.avalankids.com.au/assets/full/20106672.jpg?1578901348\n",
            "[%] File Downloaded !\n",
            "\n",
            "[%] Downloading Image #33 from https://s-media-cache-ak0.pinimg.com/736x/78/f5/a6/78f5a637777af457f3baab7e7aa9e41f--logging-equipment-heavy-equipment.jpg\n",
            "[%] File Downloaded !\n",
            "\n",
            "[%] Downloading Image #34 from http://www.bigsquidrc.com/pictures/rc4wd/full/yota1.jpg\n",
            "[%] File Downloaded !\n",
            "\n",
            "[%] Downloading Image #35 from http://www.avalankids.com.au/assets/full/20120671.jpg?20200216194006\n",
            "[%] File Downloaded !\n",
            "\n",
            "\n",
            "\n",
            "[!!]Indexing page: 2\n",
            "\n",
            "[%] Indexed 35 Images on Page 2.\n",
            "\n",
            "===============================================\n",
            "\n",
            "[%] Downloading Image #36 from https://live.staticflickr.com/6106/6286493077_79f83e99a4_b.jpg\n",
            "[Error]Invalid image, not saving https://live.staticflickr.com/6106/6286493077_79f83e99a4_b.jpg\n",
            "\n",
            "[!] Issue getting: https://live.staticflickr.com/6106/6286493077_79f83e99a4_b.jpg\n",
            "[!] Error:: Invalid image, not saving https://live.staticflickr.com/6106/6286493077_79f83e99a4_b.jpg\n",
            "\n",
            "[%] Downloading Image #36 from https://i.pinimg.com/736x/44/1e/c1/441ec1d3110158e1f169506655ca1104.jpg\n",
            "[%] File Downloaded !\n",
            "\n",
            "[%] Downloading Image #37 from http://americanclassicscars.com/uploads/pictures/classic-1956-chevy-big-window-pickup-truck-a-true-black-beauty-1.JPG\n",
            "[%] File Downloaded !\n",
            "\n",
            "[%] Downloading Image #38 from https://i.pinimg.com/736x/a2/12/21/a21221b1776662253cc896811320b742.jpg\n",
            "[%] File Downloaded !\n",
            "\n",
            "[%] Downloading Image #39 from http://www.avalankids.com.au/assets/alt_1/20105202.jpg?20200707031736\n",
            "[%] File Downloaded !\n",
            "\n",
            "[%] Downloading Image #40 from http://www.avalankids.com.au/assets/alt_1/20108311.jpg?20191115001314\n",
            "[%] File Downloaded !\n",
            "\n",
            "\n",
            "\n",
            "[%] Done. Downloaded 40 images.\n",
            "===============================================\n",
            "\n",
            "Please show your support here\n",
            "https://www.buymeacoffee.com/gurugaurav\n",
            "\n",
            "===============================================\n",
            "\n"
          ],
          "name": "stdout"
        }
      ]
    }
  ]
}